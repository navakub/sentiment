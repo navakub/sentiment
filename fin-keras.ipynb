{
 "cells": [
  {
   "cell_type": "markdown",
   "metadata": {},
   "source": [
    "# FinnSentiment\n",
    "\n",
    "Neural Network implementation of sentiment analysis using **FinnSentiment** dataset from https://github.com/cynarr/sentiment-analysis/tree/master/data-raw"
   ]
  },
  {
   "cell_type": "markdown",
   "metadata": {},
   "source": [
    "## 1.1 data preprocessing"
   ]
  },
  {
   "cell_type": "code",
   "execution_count": 582,
   "metadata": {},
   "outputs": [
    {
     "name": "stderr",
     "output_type": "stream",
     "text": [
      "[nltk_data] Downloading package punkt to\n",
      "[nltk_data]     C:\\Users\\Windows\\AppData\\Roaming\\nltk_data...\n",
      "[nltk_data]   Package punkt is already up-to-date!\n"
     ]
    },
    {
     "data": {
      "text/plain": [
       "True"
      ]
     },
     "execution_count": 582,
     "metadata": {},
     "output_type": "execute_result"
    }
   ],
   "source": [
    "#import essential packages for the project\n",
    "import numpy as np\n",
    "import matplotlib.pyplot as plt\n",
    "\n",
    "from string import punctuation\n",
    "\n",
    "import nltk\n",
    "from nltk.tokenize import word_tokenize\n",
    "\n",
    "import tensorflow as tf\n",
    "\n",
    "%matplotlib inline\n",
    "nltk.download('punkt')"
   ]
  },
  {
   "cell_type": "code",
   "execution_count": 583,
   "metadata": {},
   "outputs": [],
   "source": [
    "# function to read data from a file\n",
    "def process_data(datatype, language, label):\n",
    "    '''\n",
    "        input:\n",
    "            - datatype: 'train' or 'test'\n",
    "            - language: 'en'(English) or 'fi'(Finnish)\n",
    "            - label: 'pos'(positive) or 'neg'(negative)\n",
    "        output:\n",
    "            - list of sentences\n",
    "    '''\n",
    "    filename = label + '_test.txt' if datatype=='test' else label + '.txt'\n",
    "    filepath = 'data-raw/bin/' + language + '/' + datatype + '/' + filename\n",
    "\n",
    "    with open(filepath, mode='r', encoding='utf8') as f:\n",
    "        sentences = f.readlines()\n",
    "\n",
    "    # -------------------------------------------------- data preprocessing  -------------------------------------------------- #\n",
    "    processed = []\n",
    "    \n",
    "    for sentence in sentences:\n",
    "        sentence = sentence.lower() # lowercase\n",
    "        sentence = sentence.replace('\\n','') # remove \\n  \n",
    "\n",
    "        words = word_tokenize(sentence) # tokenisation\n",
    "        # remove non-alphabet characters and punctuations\n",
    "        for word in words:\n",
    "            if (word in list(punctuation)) or word.isalpha()==False: \n",
    "                words.remove(word)\n",
    "                \n",
    "        # append list of words of a sentence to data\n",
    "        processed.append(words)\n",
    "    # -------------------------------------------------- data preprocessing  -------------------------------------------------- #\n",
    "\n",
    "    pol = 1 if label == 'pos' else 0 #polarity\n",
    "    processed = [(sentence, pol) for sentence in processed]\n",
    "    return processed"
   ]
  },
  {
   "cell_type": "code",
   "execution_count": 584,
   "metadata": {},
   "outputs": [
    {
     "name": "stdout",
     "output_type": "stream",
     "text": [
      "preprocessing successful!\n"
     ]
    }
   ],
   "source": [
    "# data preprocessing: get list of words for each sentence\n",
    "train_pos = process_data('train','fi','pos')\n",
    "train_neg = process_data('train','fi','neg')\n",
    "test_pos = process_data('test','fi','pos')\n",
    "test_neg = process_data('test','fi','neg')\n",
    "\n",
    "print('preprocessing successful!')"
   ]
  },
  {
   "cell_type": "code",
   "execution_count": 585,
   "metadata": {},
   "outputs": [],
   "source": [
    "train = train_pos + train_neg\n",
    "test = test_pos + test_neg"
   ]
  },
  {
   "cell_type": "code",
   "execution_count": 586,
   "metadata": {},
   "outputs": [],
   "source": [
    "import random\n",
    "\n",
    "seed = 1\n",
    "random.seed(seed)\n",
    "\n",
    "random.shuffle(train)\n",
    "random.shuffle(test)"
   ]
  },
  {
   "cell_type": "code",
   "execution_count": 587,
   "metadata": {},
   "outputs": [],
   "source": [
    "input_train, label_train = [e[0] for e in train], [e[1] for e in train]\n",
    "input_test, label_test = [e[0] for e in test], [e[1] for e in test]"
   ]
  },
  {
   "cell_type": "code",
   "execution_count": 588,
   "metadata": {},
   "outputs": [
    {
     "name": "stdout",
     "output_type": "stream",
     "text": [
      "there are 9066 unique words in the corpus\n"
     ]
    }
   ],
   "source": [
    "corpus = set([word for e in input_train for word in e])\n",
    "vocab_size = len(corpus)\n",
    "print('there are %d unique words in the corpus' %(vocab_size))"
   ]
  },
  {
   "cell_type": "code",
   "execution_count": 589,
   "metadata": {},
   "outputs": [
    {
     "data": {
      "image/png": "[encoded data removed]",
      "text/plain": [
       "<Figure size 432x288 with 1 Axes>"
      ]
     },
     "metadata": {
      "needs_background": "light"
     },
     "output_type": "display_data"
    },
    {
     "data": {
      "text/plain": [
       "count    6427.000000\n",
       "mean        4.680878\n",
       "std         2.456990\n",
       "min         1.000000\n",
       "25%         3.000000\n",
       "50%         4.000000\n",
       "75%         6.000000\n",
       "max        25.000000\n",
       "dtype: float64"
      ]
     },
     "execution_count": 589,
     "metadata": {},
     "output_type": "execute_result"
    }
   ],
   "source": [
    "import pandas as pd\n",
    "\n",
    "length = [len(e) for e in input_train + input_test]\n",
    "maxlen = max(length)\n",
    "seq_len = maxlen\n",
    "\n",
    "pd.Series(length).hist()\n",
    "plt.show()\n",
    "pd.Series(length).describe()"
   ]
  },
  {
   "cell_type": "code",
   "execution_count": 590,
   "metadata": {},
   "outputs": [],
   "source": [
    "# pad / add unknown\n",
    "pad = '<PAD>'\n",
    "unk = '<UNK>'\n",
    "\n",
    "input_train_mod = list()\n",
    "for sentence in input_train:\n",
    "    sentence_padded = sentence\n",
    "    for j in range(seq_len):\n",
    "        if j >= len(sentence):\n",
    "            sentence_padded.append(pad)\n",
    "    input_train_mod.append(sentence_padded)\n",
    "\n",
    "input_test_mod= list()\n",
    "for sentence in input_test:\n",
    "    s = []\n",
    "    for j in range(seq_len):\n",
    "        if j >= len(sentence):\n",
    "            s.append(pad)\n",
    "        else:  \n",
    "            word = sentence[j]\n",
    "            if word not in corpus:\n",
    "                s.append(unk)\n",
    "            else:\n",
    "                s.append(word)\n",
    "    input_test_mod.append(s)"
   ]
  },
  {
   "cell_type": "code",
   "execution_count": 591,
   "metadata": {},
   "outputs": [
    {
     "data": {
      "text/plain": [
       "(5774, 25)"
      ]
     },
     "execution_count": 591,
     "metadata": {},
     "output_type": "execute_result"
    }
   ],
   "source": [
    "len(input_train), len(input_train[1]) "
   ]
  },
  {
   "cell_type": "code",
   "execution_count": 592,
   "metadata": {},
   "outputs": [],
   "source": [
    "input_train = input_train_mod\n",
    "input_test = input_test_mod"
   ]
  },
  {
   "cell_type": "code",
   "execution_count": 593,
   "metadata": {},
   "outputs": [],
   "source": [
    "encoder = {w:i+2 for i,w in enumerate(corpus)}\n",
    "\n",
    "pad_val = 0\n",
    "unk_val = 1\n",
    "encoder[pad] = pad_val\n",
    "encoder[unk] = unk_val"
   ]
  },
  {
   "cell_type": "code",
   "execution_count": 594,
   "metadata": {},
   "outputs": [],
   "source": [
    "# encode\n",
    "ipt_tr = []\n",
    "for sentence in input_train:\n",
    "    s = []\n",
    "    for word in sentence:\n",
    "        s.append(encoder[word])\n",
    "    ipt_tr.append(s) \n",
    "\n",
    "ipt_t = []\n",
    "for sentence in input_test:\n",
    "    s = []\n",
    "    for word in sentence:\n",
    "        s.append(encoder[word])\n",
    "    ipt_t.append(s) "
   ]
  },
  {
   "cell_type": "code",
   "execution_count": 595,
   "metadata": {},
   "outputs": [],
   "source": [
    "# train\n",
    "ipt_tr = ipt_tr\n",
    "lab_tr = label_train\n",
    "\n",
    "# test\n",
    "ipt_t = ipt_t\n",
    "lab_t = label_test"
   ]
  },
  {
   "cell_type": "code",
   "execution_count": 596,
   "metadata": {},
   "outputs": [],
   "source": [
    "from sklearn.model_selection import train_test_split"
   ]
  },
  {
   "cell_type": "code",
   "execution_count": 597,
   "metadata": {},
   "outputs": [],
   "source": [
    "ipt_tr, ipt_val, lab_tr, lab_val  = train_test_split(ipt_tr, lab_tr, test_size=0.2, random_state=1) "
   ]
  },
  {
   "cell_type": "markdown",
   "metadata": {},
   "source": [
    "## 1.2 build model"
   ]
  },
  {
   "cell_type": "code",
   "execution_count": 598,
   "metadata": {},
   "outputs": [],
   "source": [
    "from keras.layers import Input, Embedding, LSTM, GRU, Dense, Dropout\n",
    "from keras import Sequential"
   ]
  },
  {
   "cell_type": "markdown",
   "metadata": {},
   "source": [
    "https://medium.com/nerd-for-tech/what-is-lstm-peephole-lstm-and-gru-77470d84954b"
   ]
  },
  {
   "cell_type": "code",
   "execution_count": 599,
   "metadata": {},
   "outputs": [
    {
     "name": "stdout",
     "output_type": "stream",
     "text": [
      "Model: \"sequential_18\"\n",
      "_________________________________________________________________\n",
      " Layer (type)                Output Shape              Param #   \n",
      "=================================================================\n",
      " embedding_18 (Embedding)    (None, 25, 64)            580352    \n",
      "                                                                 \n",
      " gru_4 (GRU)                 (None, 64)                24960     \n",
      "                                                                 \n",
      " dropout_17 (Dropout)        (None, 64)                0         \n",
      "                                                                 \n",
      " dense_17 (Dense)            (None, 1)                 65        \n",
      "                                                                 \n",
      "=================================================================\n",
      "Total params: 605377 (2.31 MB)\n",
      "Trainable params: 605377 (2.31 MB)\n",
      "Non-trainable params: 0 (0.00 Byte)\n",
      "_________________________________________________________________\n"
     ]
    }
   ],
   "source": [
    "no_layers = 2\n",
    "vocab_size = len(corpus) + 2 # <PAD> and <UNK>\n",
    "embedding_dim = 64\n",
    "output_dim = 1\n",
    "hidden_dim = 256\n",
    "dropout = 0.5\n",
    "\n",
    "model = Sequential() \n",
    "model.add(Input(shape=(seq_len,)))\n",
    "model.add(Embedding(vocab_size, embedding_dim, input_length=seq_len)) \n",
    "model.add(GRU(embedding_dim)) # gru from keras\n",
    "\n",
    "\n",
    "model.add(Dropout(dropout)) \n",
    "model.add(Dense(output_dim, activation='sigmoid'))\n",
    "\n",
    "model.compile(loss='binary_crossentropy',optimizer='adam', metrics=['accuracy']) \n",
    "\n",
    "model.summary()"
   ]
  },
  {
   "cell_type": "markdown",
   "metadata": {},
   "source": [
    "## 1.3 train and validate"
   ]
  },
  {
   "cell_type": "code",
   "execution_count": 600,
   "metadata": {},
   "outputs": [
    {
     "name": "stdout",
     "output_type": "stream",
     "text": [
      "Epoch 1/50\n",
      "93/93 [==============================] - 5s 29ms/step - loss: 0.6883 - accuracy: 0.5532 - val_loss: 0.6877 - val_accuracy: 0.5544\n",
      "Epoch 2/50\n",
      "93/93 [==============================] - 2s 25ms/step - loss: 0.6872 - accuracy: 0.5577 - val_loss: 0.6873 - val_accuracy: 0.5544\n",
      "Epoch 3/50\n",
      "93/93 [==============================] - 2s 23ms/step - loss: 0.6875 - accuracy: 0.5577 - val_loss: 0.6874 - val_accuracy: 0.5544\n",
      "Epoch 4/50\n",
      "93/93 [==============================] - 2s 24ms/step - loss: 0.6872 - accuracy: 0.5577 - val_loss: 0.6873 - val_accuracy: 0.5544\n",
      "Epoch 5/50\n",
      "93/93 [==============================] - 2s 24ms/step - loss: 0.6875 - accuracy: 0.5575 - val_loss: 0.6882 - val_accuracy: 0.5544\n",
      "Epoch 6/50\n",
      "93/93 [==============================] - 2s 21ms/step - loss: 0.6875 - accuracy: 0.5577 - val_loss: 0.6873 - val_accuracy: 0.5544\n",
      "Epoch 7/50\n",
      "93/93 [==============================] - 2s 23ms/step - loss: 0.6874 - accuracy: 0.5577 - val_loss: 0.6872 - val_accuracy: 0.5544\n",
      "Epoch 8/50\n",
      "93/93 [==============================] - 2s 24ms/step - loss: 0.6871 - accuracy: 0.5577 - val_loss: 0.6877 - val_accuracy: 0.5544\n",
      "Epoch 9/50\n",
      "93/93 [==============================] - 2s 25ms/step - loss: 0.6865 - accuracy: 0.5577 - val_loss: 0.6872 - val_accuracy: 0.5544\n",
      "Epoch 10/50\n",
      "93/93 [==============================] - 2s 25ms/step - loss: 0.6609 - accuracy: 0.5832 - val_loss: 0.6217 - val_accuracy: 0.6631\n",
      "Epoch 11/50\n",
      "93/93 [==============================] - 2s 24ms/step - loss: 0.2965 - accuracy: 0.8920 - val_loss: 0.6625 - val_accuracy: 0.7044\n",
      "Epoch 12/50\n",
      "93/93 [==============================] - 2s 24ms/step - loss: 0.1040 - accuracy: 0.9660 - val_loss: 0.8487 - val_accuracy: 0.7106\n",
      "Epoch 13/50\n",
      "93/93 [==============================] - 2s 24ms/step - loss: 0.0511 - accuracy: 0.9851 - val_loss: 1.2080 - val_accuracy: 0.7075\n",
      "Epoch 14/50\n",
      "93/93 [==============================] - 2s 24ms/step - loss: 0.0333 - accuracy: 0.9903 - val_loss: 1.2985 - val_accuracy: 0.6953\n",
      "Epoch 15/50\n",
      "93/93 [==============================] - 2s 25ms/step - loss: 0.0198 - accuracy: 0.9955 - val_loss: 1.3266 - val_accuracy: 0.6968\n",
      "Epoch 16/50\n",
      "93/93 [==============================] - 2s 25ms/step - loss: 0.0137 - accuracy: 0.9972 - val_loss: 1.4385 - val_accuracy: 0.6876\n",
      "Epoch 17/50\n",
      "93/93 [==============================] - 2s 24ms/step - loss: 0.0144 - accuracy: 0.9959 - val_loss: 1.2484 - val_accuracy: 0.6907\n",
      "Epoch 18/50\n",
      "93/93 [==============================] - 2s 24ms/step - loss: 0.0087 - accuracy: 0.9981 - val_loss: 1.8875 - val_accuracy: 0.6922\n",
      "Epoch 19/50\n",
      "93/93 [==============================] - 2s 24ms/step - loss: 0.0065 - accuracy: 0.9976 - val_loss: 1.3043 - val_accuracy: 0.7090\n",
      "Epoch 20/50\n",
      "93/93 [==============================] - 2s 23ms/step - loss: 0.0045 - accuracy: 0.9985 - val_loss: 1.9033 - val_accuracy: 0.6830\n",
      "Epoch 21/50\n",
      "93/93 [==============================] - 2s 23ms/step - loss: 0.0013 - accuracy: 0.9994 - val_loss: 2.3776 - val_accuracy: 0.6891\n",
      "Epoch 22/50\n",
      "93/93 [==============================] - 2s 24ms/step - loss: 0.0096 - accuracy: 0.9978 - val_loss: 1.8767 - val_accuracy: 0.6953\n",
      "Epoch 23/50\n",
      "93/93 [==============================] - 2s 24ms/step - loss: 0.0041 - accuracy: 0.9989 - val_loss: 1.9571 - val_accuracy: 0.6983\n",
      "Epoch 24/50\n",
      "93/93 [==============================] - 2s 23ms/step - loss: 0.0033 - accuracy: 0.9994 - val_loss: 1.9590 - val_accuracy: 0.6815\n",
      "Epoch 25/50\n",
      "93/93 [==============================] - 2s 23ms/step - loss: 0.0017 - accuracy: 0.9994 - val_loss: 2.0834 - val_accuracy: 0.6861\n",
      "Epoch 26/50\n",
      "93/93 [==============================] - 2s 24ms/step - loss: 4.9288e-04 - accuracy: 0.9998 - val_loss: 2.2617 - val_accuracy: 0.6907\n",
      "Epoch 27/50\n",
      "93/93 [==============================] - 2s 24ms/step - loss: 1.4855e-04 - accuracy: 1.0000 - val_loss: 2.4009 - val_accuracy: 0.6845\n",
      "Epoch 28/50\n",
      "93/93 [==============================] - 2s 24ms/step - loss: 1.0846e-04 - accuracy: 1.0000 - val_loss: 2.4791 - val_accuracy: 0.6845\n",
      "Epoch 29/50\n",
      "93/93 [==============================] - 2s 25ms/step - loss: 9.0892e-05 - accuracy: 1.0000 - val_loss: 2.5473 - val_accuracy: 0.6876\n",
      "Epoch 30/50\n",
      "93/93 [==============================] - 2s 24ms/step - loss: 8.6688e-05 - accuracy: 1.0000 - val_loss: 2.6061 - val_accuracy: 0.6876\n",
      "Epoch 31/50\n",
      "93/93 [==============================] - 2s 24ms/step - loss: 7.2331e-05 - accuracy: 1.0000 - val_loss: 2.6564 - val_accuracy: 0.6891\n",
      "Epoch 32/50\n",
      "93/93 [==============================] - 2s 24ms/step - loss: 6.4500e-05 - accuracy: 1.0000 - val_loss: 2.7006 - val_accuracy: 0.6876\n",
      "Epoch 33/50\n",
      "93/93 [==============================] - 2s 17ms/step - loss: 6.3011e-05 - accuracy: 1.0000 - val_loss: 2.7419 - val_accuracy: 0.6876\n",
      "Epoch 34/50\n",
      "93/93 [==============================] - 2s 25ms/step - loss: 6.1141e-05 - accuracy: 1.0000 - val_loss: 2.7847 - val_accuracy: 0.6876\n",
      "Epoch 35/50\n",
      "93/93 [==============================] - 2s 24ms/step - loss: 4.9439e-05 - accuracy: 1.0000 - val_loss: 2.8225 - val_accuracy: 0.6876\n",
      "Epoch 36/50\n",
      "93/93 [==============================] - 2s 23ms/step - loss: 4.6226e-05 - accuracy: 1.0000 - val_loss: 2.8576 - val_accuracy: 0.6876\n",
      "Epoch 37/50\n",
      "93/93 [==============================] - 2s 25ms/step - loss: 4.2970e-05 - accuracy: 1.0000 - val_loss: 2.8894 - val_accuracy: 0.6876\n",
      "Epoch 38/50\n",
      "93/93 [==============================] - 2s 23ms/step - loss: 4.2168e-05 - accuracy: 1.0000 - val_loss: 2.9236 - val_accuracy: 0.6891\n",
      "Epoch 39/50\n",
      "93/93 [==============================] - 2s 23ms/step - loss: 4.0561e-05 - accuracy: 1.0000 - val_loss: 2.9564 - val_accuracy: 0.6891\n",
      "Epoch 40/50\n",
      "93/93 [==============================] - 2s 24ms/step - loss: 4.0447e-05 - accuracy: 1.0000 - val_loss: 2.9913 - val_accuracy: 0.6891\n",
      "Epoch 41/50\n",
      "93/93 [==============================] - 2s 25ms/step - loss: 3.5681e-05 - accuracy: 1.0000 - val_loss: 3.0225 - val_accuracy: 0.6891\n",
      "Epoch 42/50\n",
      "93/93 [==============================] - 2s 24ms/step - loss: 3.1643e-05 - accuracy: 1.0000 - val_loss: 3.0522 - val_accuracy: 0.6891\n",
      "Epoch 43/50\n",
      "93/93 [==============================] - 2s 25ms/step - loss: 3.0122e-05 - accuracy: 1.0000 - val_loss: 3.0819 - val_accuracy: 0.6891\n",
      "Epoch 44/50\n",
      "93/93 [==============================] - 2s 23ms/step - loss: 3.0970e-05 - accuracy: 1.0000 - val_loss: 3.1124 - val_accuracy: 0.6891\n",
      "Epoch 45/50\n",
      "93/93 [==============================] - 2s 24ms/step - loss: 2.6183e-05 - accuracy: 1.0000 - val_loss: 3.1410 - val_accuracy: 0.6891\n",
      "Epoch 46/50\n",
      "93/93 [==============================] - 2s 26ms/step - loss: 2.6623e-05 - accuracy: 1.0000 - val_loss: 3.1697 - val_accuracy: 0.6891\n",
      "Epoch 47/50\n",
      "93/93 [==============================] - 2s 24ms/step - loss: 2.4691e-05 - accuracy: 1.0000 - val_loss: 3.1970 - val_accuracy: 0.6891\n",
      "Epoch 48/50\n",
      "93/93 [==============================] - 2s 24ms/step - loss: 2.2787e-05 - accuracy: 1.0000 - val_loss: 3.2251 - val_accuracy: 0.6876\n",
      "Epoch 49/50\n",
      "93/93 [==============================] - 2s 24ms/step - loss: 2.2476e-05 - accuracy: 1.0000 - val_loss: 3.2519 - val_accuracy: 0.6876\n",
      "Epoch 50/50\n",
      "93/93 [==============================] - 2s 25ms/step - loss: 2.1446e-05 - accuracy: 1.0000 - val_loss: 3.2787 - val_accuracy: 0.6876\n"
     ]
    },
    {
     "data": {
      "text/plain": [
       "<keras.src.callbacks.History at 0x21c7fcbfa30>"
      ]
     },
     "execution_count": 600,
     "metadata": {},
     "output_type": "execute_result"
    }
   ],
   "source": [
    "num_epochs = 50\n",
    "batch_size = 50\n",
    "\n",
    "model.fit(ipt_tr, lab_tr, validation_data=(ipt_t, lab_t), epochs=num_epochs, batch_size=batch_size)"
   ]
  },
  {
   "cell_type": "markdown",
   "metadata": {},
   "source": [
    "## 1.4. model evaluation"
   ]
  },
  {
   "cell_type": "code",
   "execution_count": 601,
   "metadata": {},
   "outputs": [
    {
     "name": "stdout",
     "output_type": "stream",
     "text": [
      "21/21 [==============================] - 0s 9ms/step - loss: 3.2787 - accuracy: 0.6876\n"
     ]
    }
   ],
   "source": [
    "model_eval = model.evaluate(ipt_t, lab_t)"
   ]
  },
  {
   "cell_type": "code",
   "execution_count": 602,
   "metadata": {},
   "outputs": [
    {
     "name": "stderr",
     "output_type": "stream",
     "text": [
      "c:\\Users\\Windows\\AppData\\Local\\Programs\\Python\\Python310\\lib\\site-packages\\keras\\src\\engine\\training.py:3103: UserWarning: You are saving your model as an HDF5 file via `model.save()`. This file format is considered legacy. We recommend using instead the native Keras format, e.g. `model.save('my_model.keras')`.\n",
      "  saving_api.save_model(\n"
     ]
    }
   ],
   "source": [
    "model.save('lstm-finnsentiment-keras.h5')"
   ]
  },
  {
   "cell_type": "markdown",
   "metadata": {},
   "source": [
    "## 1.5 model prediction testing"
   ]
  },
  {
   "cell_type": "code",
   "execution_count": 603,
   "metadata": {},
   "outputs": [
    {
     "name": "stdout",
     "output_type": "stream",
     "text": [
      "21/21 [==============================] - 1s 5ms/step\n"
     ]
    }
   ],
   "source": [
    "predictions = model.predict(ipt_t).flatten()"
   ]
  },
  {
   "cell_type": "code",
   "execution_count": 604,
   "metadata": {},
   "outputs": [],
   "source": [
    "preds = []\n",
    "for i in range(len(predictions)):\n",
    "    pred = predictions[i]\n",
    "    if pred > 0.5:\n",
    "        preds.append(1)\n",
    "    else:\n",
    "        preds.append(0)\n"
   ]
  },
  {
   "cell_type": "code",
   "execution_count": 605,
   "metadata": {},
   "outputs": [],
   "source": [
    "from sklearn.metrics import accuracy_score"
   ]
  },
  {
   "cell_type": "code",
   "execution_count": 606,
   "metadata": {},
   "outputs": [
    {
     "data": {
      "text/plain": [
       "0.6875957120980092"
      ]
     },
     "execution_count": 606,
     "metadata": {},
     "output_type": "execute_result"
    }
   ],
   "source": [
    "accuracy_score(lab_t, preds)"
   ]
  },
  {
   "cell_type": "markdown",
   "metadata": {},
   "source": [
    "## 1.6 unseen prediction"
   ]
  },
  {
   "cell_type": "code",
   "execution_count": 607,
   "metadata": {},
   "outputs": [],
   "source": [
    "from keras.utils import pad_sequences"
   ]
  },
  {
   "cell_type": "code",
   "execution_count": 608,
   "metadata": {},
   "outputs": [],
   "source": [
    "# for user prediction\n",
    "def user_input_processing(review):\n",
    "    to_predict = []\n",
    "\n",
    "    review_text = review\n",
    "\n",
    "    # preprocess the review\n",
    "    to_predict = []\n",
    "    for word in review.split(\" \"):\n",
    "        word = str.lower(word)\n",
    "        if word[-1] == \".\":\n",
    "            word = word[:-1]\n",
    "        if word not in corpus:\n",
    "            word = unk\n",
    "        to_predict.append(encoder[word])\n",
    "    to_predict = pad_sequences([to_predict], seq_len, padding='post')\n",
    "\n",
    "    pol = 'positive' if model.predict(np.array(to_predict))[0] > 0.5 else 'negative'\n",
    "    \n",
    "    print(review_text)\n",
    "    print(pol)"
   ]
  },
  {
   "cell_type": "code",
   "execution_count": 609,
   "metadata": {},
   "outputs": [
    {
     "name": "stdout",
     "output_type": "stream",
     "text": [
      "1/1 [==============================] - 0s 55ms/step\n"
     ]
    },
    {
     "name": "stdout",
     "output_type": "stream",
     "text": [
      "Saat yhdeksän yhdestä paketista, koska olen hyvällä tuulella.\n",
      "positive\n",
      "1/1 [==============================] - 0s 25ms/step\n",
      "täydellinen ruoka\n",
      "positive\n",
      "1/1 [==============================] - 0s 36ms/step\n",
      "se ei ole niin hyvä kuin luulin\n",
      "negative\n",
      "1/1 [==============================] - 0s 47ms/step\n",
      "Ennustettavaa ja huonoa. Näyttelijätyö oli kauheaa ja tarina yhteinen\n",
      "negative\n",
      "1/1 [==============================] - 0s 55ms/step\n",
      "huonot palvelut\n",
      "negative\n",
      "1/1 [==============================] - 0s 46ms/step\n",
      "Olet niin kaunis.\n",
      "positive\n"
     ]
    }
   ],
   "source": [
    "texts = [\n",
    "    'Saat yhdeksän yhdestä paketista, koska olen hyvällä tuulella.', # You get nine out of one pack because I'm in a good mood\n",
    "    'täydellinen ruoka', # 'perfect food' \n",
    "    'se ei ole niin hyvä kuin luulin', # 'it is not as good as i thought' \n",
    "    'Ennustettavaa ja huonoa. Näyttelijätyö oli kauheaa ja tarina yhteinen', # 'Predictable and bad. The acting was terrible and the story was common.'\n",
    "    'huonot palvelut', # 'bad services' \n",
    "    'Olet niin kaunis.' # 'you are so beautiful' \n",
    "]\n",
    "\n",
    "for text in texts:\n",
    "    user_input_processing(text)"
   ]
  }
 ],
 "metadata": {
  "kernelspec": {
   "display_name": "Python 3",
   "language": "python",
   "name": "python3"
  },
  "language_info": {
   "codemirror_mode": {
    "name": "ipython",
    "version": 3
   },
   "file_extension": ".py",
   "mimetype": "text/x-python",
   "name": "python",
   "nbconvert_exporter": "python",
   "pygments_lexer": "ipython3",
   "version": "3.10.5"
  }
 },
 "nbformat": 4,
 "nbformat_minor": 2
}
